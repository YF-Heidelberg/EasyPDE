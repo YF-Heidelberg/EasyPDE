{
 "cells": [
  {
   "cell_type": "markdown",
   "metadata": {},
   "source": [
    "In this lesson, we will explain how to speed up the PT method introduced by adding a dampening factor. \n",
    "\n",
    "Stokes Equation solved in geodynamics; incompressible; boussineqq approximation\n",
    "\n",
    "   $$ \\nabla _j (\\tau_{ij} -P\\delta_{ij})  -\\rho g= 0   \\tag{1} $$\n",
    "   $$\\nabla _k V_k = 0  \\tag{2} $$\n",
    "   whereas;\n",
    "   $$\\tau_{ij}=2 \\eta_s \\cdot (\\frac{1}{2}(\\nabla _i V_j+\\nabla _j V_i)-\\frac {1}{3}\\delta_{ij}\\nabla _k V_k)  \\tag {3} $$\n",
    "\n",
    "   "
   ]
  },
  {
   "cell_type": "markdown",
   "metadata": {},
   "source": [
    "   2D case: \n",
    "\n",
    "   $$ \\frac {\\partial (\\tau_ {xx} -P)} {\\partial x} +\\frac {\\partial \\tau_{xy}}{\\partial y} -\\rho g_x= 0  \\tag{4} $$\n",
    "   $$ \\frac {\\partial (\\tau_ {yy} -P)} {\\partial y}+\\frac {\\partial \\tau_ {xy}} {\\partial x} -\\rho g_y= 0  \\tag{5} $$\n",
    "   $$ \\nabla _k V_k=\\frac {\\partial V_ {x}} {\\partial x}+\\frac {\\partial V_ {y}} {\\partial y}  = 0  \\tag{6} $$\n",
    "\n",
    "   whereas;\n",
    "   $$\\tau_{xy}=2 \\eta_s \\cdot (\\frac{1}{2}(\\frac {\\partial V _x}{\\partial y} +\\frac {\\partial V _y}{\\partial x} ) \\tag {7} $$\n",
    "   $$\\tau_{xx}=2 \\eta_s \\cdot (\\frac {\\partial V _x}{\\partial x}- \\frac{1}{3}\\nabla _k V_k) \\tag {8} $$\n",
    "   $$\\tau_{yy}=2 \\eta_s \\cdot (\\frac {\\partial V _y}{\\partial y}- \\frac{1}{3}\\nabla _k V_k) \\tag {9} $$"
   ]
  },
  {
   "cell_type": "markdown",
   "metadata": {},
   "source": [
    "Consider the incompressible assumption, $\\nabla _k V_k=0$, the deritoric stress: \n",
    "   $$\\tau_{xy}=2 \\eta_s \\cdot (\\frac{1}{2}(\\frac {\\partial V _x}{\\partial y} +\\frac {\\partial V _y}{\\partial x} ) \\tag {10} $$\n",
    "   $$\\tau_{xx}=2 \\eta_s \\cdot (\\frac {\\partial V _x}{\\partial x}) \\tag {11} $$\n",
    "   $$\\tau_{yy}=2 \\eta_s \\cdot (\\frac {\\partial V _y}{\\partial y}) \\tag {12} $$\n",
    "\n",
    "However, $\\nabla _k V_k=0$ is only satisfied when it is converged. During the pseudo-transient process,  $\\nabla _k V_k$ does not equal 0. So we can choose to keep it or remove it! (It might be easier for the derivation process to remove it. But we keep it anyway here!)"
   ]
  },
  {
   "cell_type": "markdown",
   "metadata": {},
   "source": [
    "Add pseudo bulk viscosity to solve pressure, then $\\tau_{xx}$ and $\\tau_{xy}$ can be written as: \n",
    "$$\\tau_{xx}=2 \\eta_s \\cdot (\\frac {\\partial V _x}{\\partial x}+(\\beta- \\frac{1}{3})\\nabla _k V_k) \\tag {13}$$\n",
    "$$\\tau_{xy}=2 \\eta_s \\cdot (\\frac{1}{2}(\\frac {\\partial V _x}{\\partial y} +\\frac {\\partial V _y}{\\partial x} ) \\tag {14} $$                                                            \n",
    "$$\\tau_{yy}=2 \\eta_s \\cdot (\\frac {\\partial V _y}{\\partial y}+(\\beta- \\frac{1}{3})\\nabla _k V_k) \\tag {15}$$\n",
    "\n",
    "Notice that $\\tau_{yy}$ can be written in a similary way to $\\tau_{xx}$. Then the momentum equation Eq.4) can be written as:\n",
    "\n",
    "$$\\frac {\\partial (\\tau_{xx} -P)} {\\partial x} +\\frac {\\partial \\tau_{xy}}{\\partial y}-\\rho g_x = a \\frac {\\partial^2 V_x} {\\partial \\tau^2} + b \\frac {\\partial V_x} {\\partial \\tau} \\tag{16}$$\n"
   ]
  },
  {
   "cell_type": "markdown",
   "metadata": {},
   "source": [
    "To further simplify Equation (4) by removing  P and substituting $ V_x$ from Equation (3), let's proceed with the given:\n",
    "\n",
    "$$\n",
    "V_x = e^{\\lambda_\\omega \\tau} e^{\\frac{\\omega \\pi x I}{L}} \\color {red} e^{\\frac{\\omega \\pi y I}{L}}\n",
    "$$\n",
    "\n",
    "### Step 1: Compute Derivatives of $V_x$\n",
    "\n",
    "First, we compute the necessary spatial derivatives of $V_x $:\n",
    "\n",
    "$$\n",
    "\\frac{\\partial V_x}{\\partial x} = e^{\\lambda_\\omega \\tau} \\frac{\\omega \\pi I}{L} e^{\\frac{\\omega \\pi x I} {L}} = \\frac{\\omega \\pi I}{L} V_x\n",
    "$$\n",
    "$$\n",
    "\\frac{\\partial^2 V_x}{\\partial x^2} = \\frac{\\omega \\pi I}{L} \\frac{\\partial V_x}{\\partial x} = - \\left(\\frac{\\omega \\pi}{L}\\right)^2 V_x\n",
    "$$\n",
    "$$\n",
    "\\frac{\\partial V_y}{\\partial y} = 0 \\quad \\text{(ignore item related to Vy and P, only consider Vx)}\n",
    "$$"
   ]
  },
  {
   "cell_type": "markdown",
   "metadata": {},
   "source": [
    "\n",
    "\n",
    "### Step 2: Substitute into Simplified Equation (4)\n",
    "\n",
    "Now substituting these derivatives and ignoring \\( P \\) and any terms involving $V_y $ as we assume no variation in  y or  z  direction:\n",
    "\n",
    "$$\n",
    "\\frac{\\partial \\tau_{xx}}{\\partial x} = -2 \\eta_s \\left( \\left(\\frac{\\omega \\pi}{L}\\right)^2 V_x + \\left(\\beta - \\frac{1}{3}\\right) \\left(\\frac{\\omega \\pi}{L}\\right)^2 V_x \\right)\n",
    "$$\n",
    "$$\n",
    "= -2 \\eta_s \\left(1 + \\beta - \\frac{1}{3}\\right) \\left(\\frac{\\omega \\pi}{L}\\right)^2 V_x\n",
    "= -2 \\eta_s \\left(\\beta + \\frac{2}{3}\\right) \\left(\\frac{\\omega \\pi}{L}\\right)^2 V_x\n",
    "$$\n",
    "\n",
    "Since $ \\tau_{xy}= \\eta\\frac{\\partial Vx}{\\partial y} + \\eta\\frac{\\partial Vy}{\\partial x}$, due to no variation in $y$, the equation simplifies to:\n",
    "\n",
    "$$\n",
    "-2 \\eta_s \\left(\\beta + \\frac{2}{3}\\right) \\left(\\frac{\\omega \\pi}{L}\\right)^2 V_x - \\color {orange} {\\eta_s \\left(\\frac{\\omega_y \\pi}{L}\\right)^2} V_x = \\color {black} {a \\frac{\\partial^2 V_x}{\\partial \\tau^2} + b \\frac{\\partial V_x}{\\partial \\tau}}\n",
    "$$\n",
    "\n",
    "### Step 3: Compute Time Derivatives of $V_x$\n",
    "\n",
    "$$\n",
    "\\frac{\\partial V_x}{\\partial t} = \\lambda_\\omega e^{\\lambda_\\omega \\tau} e^{\\frac{\\omega \\pi x}{L}} = \\lambda_\\omega V_x\n",
    "$$\n",
    "$$\n",
    "\\frac{\\partial^2 V_x}{\\partial \\tau^2} = \\lambda_\\omega^2 V_x\n",
    "$$\n",
    "\n",
    "### Step 4: Substitute Time Derivatives\n",
    "\n",
    "$$\n",
    "-2 \\eta_s \\left(\\beta + \\frac{2}{3}\\right) \\left(\\frac{\\omega \\pi}{L}\\right)^2 V_x - \\color {orange} {\\eta_s \\left(\\frac{\\omega_y \\pi}{L}\\right)^2} V_x= \\color {black}{a \\lambda_\\omega^2 V_x + b \\lambda_\\omega V_x}\n",
    "$$\n"
   ]
  },
  {
   "cell_type": "markdown",
   "metadata": {},
   "source": [
    "Removing the terms involving $\\rho$ and $g_x$ from the equation and focusing on solving for \\(\\lambda_\\omega\\), we have:\n",
    "\n",
    "$$\n",
    "-2 \\eta_s \\left(\\beta + \\frac{2}{3}\\right) \\left(\\frac{\\omega \\pi}{L}\\right)^2 -\\color {orange} {\\eta_s \\left(\\frac{\\omega_y \\pi}{L}\\right)^2} = a \\lambda_\\omega^2 + b \\lambda_\\omega\n",
    "$$\n",
    "\n",
    "This equation is a quadratic in terms of $\\lambda_\\omega$:\n",
    "\n",
    "$$\n",
    "a \\lambda_\\omega^2 + b \\lambda_\\omega + 2 \\eta_s \\left(\\beta + \\frac{2}{3}\\right) \\left(\\frac{\\omega \\pi}{L}\\right)^2 +\\color {orange} {\\eta_s \\left(\\frac{\\omega_y \\pi}{L}\\right)^2} \\color {black} {= 0}\n",
    "$$\n",
    "\n",
    "### Solving for $\\lambda_\\omega$\n",
    "\n",
    "The quadratic formula for $lambda_\\omega$ is:\n",
    "\n",
    "$$\n",
    "\\lambda_\\omega = \\frac{-b \\pm \\sqrt{b^2 - 4ac}}{2a}\n",
    "$$\n",
    "\n",
    "where:\n",
    "- \\(a = a\\)\n",
    "- \\(b = b\\)\n",
    "- $$(c = 2 \\eta_s \\left(\\beta + \\frac{2}{3}\\right) \\left(\\frac{\\omega \\pi}{L}\\right)^2)+\\color {orange} {\\eta_s \\left(\\frac{\\omega_y \\pi}{L}\\right)^2}\\$$\n",
    "\n",
    "Substituting these into the quadratic formula:\n",
    "\n",
    "$$\n",
    "\\lambda_\\omega = \\frac{-b \\pm \\sqrt{b^2 - 8b \\eta_s \\left(\\beta + \\frac{2}{3}\\right) \\left(\\frac{\\omega \\pi}{L}\\right)^2}}{2a}\n",
    "$$\n",
    "\n",
    "This expression gives the two possible values for $\\lambda_\\omega$, depending on the choice of the plus or minus sign in the quadratic formula. Each solution represents a different mode of the behavior of the system under the given parameters, typically corresponding to either a growing or decaying solution depending on the sign of $\\lambda_\\omega$."
   ]
  },
  {
   "cell_type": "markdown",
   "metadata": {},
   "source": [
    "let  $ b^2-4ac=0$; then we have: \n",
    "$$b=2\\sqrt{ac}=2A\\sqrt{aD}$$\n",
    "whereas  (assume $\\omega_y=\\omega_x$):\n",
    "  $$D= 2\\eta_s \\left(\\beta + \\frac{2}{3}\\right)+\\color {orange}{\\eta_s}$$\n",
    " $$A=\\frac{\\omega\\pi} {L}$$\n"
   ]
  },
  {
   "cell_type": "markdown",
   "metadata": {},
   "source": [
    "Lets check the diffusion timestep by adding only the first pseudo time derivative: \n",
    "\n",
    "$$\\frac {\\partial (\\tau_{xx} -P)} {\\partial x} +\\frac {\\partial \\tau_{xy}}{\\partial y}-\\rho g_x = \\frac {\\partial V_x} {\\partial \\tau} =D \\frac{\\partial^2 V_x}{\\partial x^2}  $$\n",
    "\n",
    "And:\n",
    "$$ D = 2 \\eta_s \\left(\\beta + \\frac{2}{3}\\right)+\\color{orange}{\\eta_s}$$\n",
    "\n",
    "the diffusion timestep is: \n",
    "$$\\Delta t_{diff}=\\frac{\\Delta x^2} {2Dn_{dim}}$$\n",
    "$$ b = 2A\\sqrt{\\Delta x^2/4}=\\omega\\pi/nx"
   ]
  },
  {
   "cell_type": "markdown",
   "metadata": {},
   "source": [
    "However, we can also derive a suitable time step by with the 2nd pseudo time derivative version of the equation:\n",
    "\n",
    "$$\\frac {\\partial (\\tau_{xx} -P)} {\\partial x} +\\frac {\\partial \\tau_{xy}}{\\partial y}-\\rho g_x = a \\frac{\\partial^2 V_x}{\\partial \\tau^2} + b \\frac{\\partial V_x}{\\partial \\tau} =D\\frac{\\partial^2 V_x}{\\partial x^2}\n",
    "$$\n",
    "\n",
    "This is a damped wave equation.  We can decide a critical timestep based on a simple physical sense: one should not move more than half of the grid at every timestep. \n",
    "$$\\Delta t<=\\frac {\\Delta x} {2 V_{wave}}=\\frac {\\Delta x} {2\\sqrt{\\frac{D}{a}}}$$\n",
    "\n",
    "As we know $a=\\Delta t$ is required to have the formulation of Eq.1) or Eq.4) in Lesson 3:\n"
   ]
  },
  {
   "cell_type": "markdown",
   "metadata": {},
   "source": [
    "$$\\Delta t =a=\\frac {\\Delta x} {2\\sqrt{\\frac{D}{a}}}$$\n",
    "\n",
    "Which leads to:\n",
    "$$\\Delta t_{wave}= a = \\frac{\\Delta x^2}{4D}    \\equiv ~ \\Delta t_{diff} $$\n"
   ]
  },
  {
   "cell_type": "markdown",
   "metadata": {},
   "source": [
    "However, one can  also do van Neumann stability analysis of the wave equation ($\\frac {\\partial^2 u}{\\partial t^2}=\\alpha \\frac {\\partial^2 u}{\\partial x^2}$) to derive the critical timestep.\n",
    "check https://en.wikipedia.org/wiki/Von_Neumann_stability_analysis:\n",
    "$$\\Delta t<=\\frac {\\Delta x}{\\sqrt {\\alpha}} = \\frac {\\Delta x}{\\sqrt {\\frac {D}{a}}}  $$\n",
    "which leads ：\n",
    " $$\\Delta t<=\\frac {\\Delta x^2}{D}$$"
   ]
  },
  {
   "cell_type": "markdown",
   "metadata": {},
   "source": [
    "From the van Neumann stability analysis, it is obviously enough when $V_w*\\Delta t <\\Delta x$ which mean the movement should be less than the length of the grid. Which one correct?\n",
    "There is probably no need to figure it out analyticall, but test with the numerical code!. \n",
    "With $\\color {red} {Stokes2D2nddamp\\_diffusionstep.m}$, I test that , $\\Delta t<=\\frac {\\Delta x^2}{D}$ leads to explosion. But $\\Delta t<=\\frac {\\Delta x^2}{2D}$ seems works quite fine,except low nx (i.e.10). To be more safe, use $\\Delta t<=\\frac {\\Delta x^2}{4D}$."
   ]
  },
  {
   "cell_type": "markdown",
   "metadata": {},
   "source": [
    "If Let us think about the reason for a smaller $\\Delta t $ than van Neumanns stability analysis, this might due to the fact $V_x$ equations involved a evolving $V_y$, but it is ignored during the analysis!"
   ]
  },
  {
   "cell_type": "markdown",
   "metadata": {},
   "source": [
    "<br>\n",
    "\n",
    "\n",
    "\n",
    "\n",
    "### Dampening scheme for the incompressible Stokes equation: \n",
    "\n",
    "\n",
    "   $$ \\nabla _j (\\tau_{ij} -P\\delta_{ij})  -\\rho g= 0   \\tag{1} $$\n",
    "   $$\\nabla _k V_k = 0  \\tag{2} $$\n",
    "   whereas;\n",
    "   $$\\tau_{ij}=2 \\eta_s \\cdot (\\frac{1}{2}(\\nabla _i V_j+\\nabla _j V_i)-\\frac {1}{3}\\delta_{ij}\\nabla _k V_k)  \\tag {3} $$\n"
   ]
  },
  {
   "cell_type": "markdown",
   "metadata": {},
   "source": [
    "$$\\frac {\\partial (\\tau_{xx} -P)} {\\partial x} +\\frac {\\partial \\tau_{xy}}{\\partial y}-\\rho g_x = {RVx}_1 = \\frac {\\partial V_x} {\\partial \\tau}  = a \\frac {\\partial^2 V_x} {\\partial \\tau^2} + b \\frac {\\partial V_x} {\\partial \\tau} \\tag {17}$$  \n",
    "$$\\frac {\\partial (\\tau_{yy} -P)} {\\partial y} +\\frac {\\partial \\tau_{xy}}{\\partial x}-\\rho g_x = RVy_1 = \\frac {\\partial V_y} {\\partial \\tau}  = a \\frac {\\partial^2 V_y} {\\partial \\tau^2} + b \\frac {\\partial V_y} {\\partial \\tau} \\tag {18} $$\n",
    "\n",
    "   $$\\nabla _k V_k = -\\frac{\\partial P}{\\partial \\tau_P}  \\tag {19}$$\n"
   ]
  },
  {
   "cell_type": "markdown",
   "metadata": {},
   "source": [
    "\n",
    "\n",
    "   Accoring to the symmetry of $V_x$ and $V_y$, it is easier to know the dampening scheme for Vy.  For the Eq. 3) that indicate incompressbility of the system, we add pseudo compressibility through pseudo time.\n",
    "   The accelerated PT method (with dampening) to solve the Stokes problem (Eq.1-3)) are composed of the formulations in Eq.13-15) and Eq.17-19). The dampening parameter and pseudo timestep $\\tau$ are derived in this notebook.\n",
    "   However, the choice of $\\Delta t_P$ is not explained here! It is in the code without explantion.  We leave the derivation process for now! \n",
    "   If it works, enjoy it as a empirical choice!"
   ]
  }
 ],
 "metadata": {
  "kernelspec": {
   "display_name": "Python 3 (ipykernel)",
   "language": "python",
   "name": "python3"
  },
  "language_info": {
   "codemirror_mode": {
    "name": "ipython",
    "version": 3
   },
   "file_extension": ".py",
   "mimetype": "text/x-python",
   "name": "python",
   "nbconvert_exporter": "python",
   "pygments_lexer": "ipython3",
   "version": "3.8.5"
  }
 },
 "nbformat": 4,
 "nbformat_minor": 4
}
